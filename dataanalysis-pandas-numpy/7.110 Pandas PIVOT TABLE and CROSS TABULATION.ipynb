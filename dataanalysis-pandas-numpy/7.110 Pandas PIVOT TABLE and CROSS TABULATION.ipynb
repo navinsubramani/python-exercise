{
 "cells": [
  {
   "cell_type": "code",
   "execution_count": null,
   "metadata": {},
   "outputs": [],
   "source": [
    "import pandas as pd\n",
    "import numpy as np\n",
    "\n",
    "# No duplicate values\n",
    "df1 = pd.DataFrame( {\"Name\": ['Apple', 'Apple', 'Apple', 'Orange', 'Orange', 'Banana', 'Banana', 'Mango', 'Grape'], \n",
    "                    \"Location\": ['India', 'USA', 'UK', 'India', 'USA', 'USA', 'UK', 'India', 'USA'],\n",
    "                    \"Cost\":[80, 120, 140, 70, 110, 50, 60, 90, 120],\n",
    "                    \"Weight\" : [1, 1, 1, 2, 2, 3, 3, 4, 5] }\n",
    ")\n",
    "df1.index.name = 'ROW_NAME'\n",
    "\n",
    "# Some duplicate values\n",
    "df2 = pd.DataFrame( {\"Name\": ['Apple', 'Apple', 'Apple', 'Orange', 'Orange', 'Banana', 'Banana', 'Mango', 'Grape', 'Apple', 'Orange', 'Apple'], \n",
    "                    \"Location\": ['India', 'USA', 'UK', 'India', 'USA', 'USA', 'UK', 'India', 'USA', 'India', 'India', 'USA'],\n",
    "                    \"Cost\":[80, 120, 140, 70, 110, 50, 60, 90, 120, 81, 71, 121],\n",
    "                    \"Price\":[80, 120, 140, 70, 110, 50, 60, 90, 120, 81, 71, 121] }\n",
    ")\n",
    "df2.index.name = 'ROW_NAME'"
   ]
  },
  {
   "attachments": {},
   "cell_type": "markdown",
   "metadata": {},
   "source": [
    "Recap on PIVOT function. This works when there is no duplicate information and can't do aggregation"
   ]
  },
  {
   "cell_type": "code",
   "execution_count": null,
   "metadata": {},
   "outputs": [],
   "source": [
    "df1.pivot(index='Name', columns='Location', values='Cost')\n",
    "\n",
    "# Errors out when using df2 with duplicate values\n",
    "# df2.pivot(index='Name', columns='Location', values='Cost')"
   ]
  },
  {
   "attachments": {},
   "cell_type": "markdown",
   "metadata": {},
   "source": [
    "PIVOT TABLE"
   ]
  },
  {
   "cell_type": "code",
   "execution_count": null,
   "metadata": {},
   "outputs": [],
   "source": [
    "# By default, the aggregate function is MEAN\n",
    "df2.pivot_table(index='Name', columns='Location', values='Cost')"
   ]
  },
  {
   "cell_type": "code",
   "execution_count": null,
   "metadata": {},
   "outputs": [],
   "source": [
    "# Aggregate SUM\n",
    "df2.pivot_table(index='Name', columns='Location', values='Cost', aggfunc=np.sum)"
   ]
  },
  {
   "cell_type": "code",
   "execution_count": null,
   "metadata": {},
   "outputs": [],
   "source": [
    "# Different Aggregate function can be used for each column\n",
    "df2.pivot_table(index='Name', columns='Location', aggfunc={'Cost': np.sum, 'Price':np.mean})"
   ]
  },
  {
   "attachments": {},
   "cell_type": "markdown",
   "metadata": {},
   "source": [
    "CROSS TABULATION\n",
    "- Calculates the frequency of the observation"
   ]
  },
  {
   "cell_type": "code",
   "execution_count": null,
   "metadata": {},
   "outputs": [],
   "source": [
    "pd.crosstab(df2['Name'], df2['Location'])"
   ]
  }
 ],
 "metadata": {
  "kernelspec": {
   "display_name": ".venv",
   "language": "python",
   "name": "python3"
  },
  "language_info": {
   "codemirror_mode": {
    "name": "ipython",
    "version": 3
   },
   "file_extension": ".py",
   "mimetype": "text/x-python",
   "name": "python",
   "nbconvert_exporter": "python",
   "pygments_lexer": "ipython3",
   "version": "3.8.10 (tags/v3.8.10:3d8993a, May  3 2021, 11:48:03) [MSC v.1928 64 bit (AMD64)]"
  },
  "orig_nbformat": 4,
  "vscode": {
   "interpreter": {
    "hash": "aa17f8e5e2b4ccee35835ff81fed7ecb411011bd099190c9408a5694b8529a38"
   }
  }
 },
 "nbformat": 4,
 "nbformat_minor": 2
}

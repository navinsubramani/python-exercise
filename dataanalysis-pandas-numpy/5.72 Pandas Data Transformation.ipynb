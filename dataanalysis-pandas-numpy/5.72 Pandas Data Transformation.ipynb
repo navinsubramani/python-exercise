{
 "cells": [
  {
   "cell_type": "code",
   "execution_count": null,
   "metadata": {},
   "outputs": [],
   "source": [
    "import pandas as pd\n",
    "import numpy as np\n",
    "\n",
    "json_file_path = \"pandas_example_dataset_2.json\""
   ]
  },
  {
   "attachments": {},
   "cell_type": "markdown",
   "metadata": {},
   "source": [
    "Tranform the data using the function / mapping"
   ]
  },
  {
   "cell_type": "code",
   "execution_count": null,
   "metadata": {},
   "outputs": [],
   "source": [
    "df1 = pd.read_json(json_file_path)\n",
    "f = {'setosa':'sesa', 'virginica':'vir'}\n",
    "\n",
    "df1['species short name'] = df1['species'].map(f)\n",
    "df1"
   ]
  },
  {
   "attachments": {},
   "cell_type": "markdown",
   "metadata": {},
   "source": [
    "Transform the data using the replace function"
   ]
  },
  {
   "cell_type": "code",
   "execution_count": null,
   "metadata": {},
   "outputs": [],
   "source": [
    "df1 = pd.read_json(json_file_path)\n",
    "f = {'setosa':'sesa', 'virginica':'vir'}\n",
    "\n",
    "#1\n",
    "df1['species short name'] = df1['species'].replace(f)\n",
    "\n",
    "#2\n",
    "df1 = df1.replace(np.nan, 'MISSING')\n",
    "\n",
    "# Display\n",
    "df1"
   ]
  },
  {
   "attachments": {},
   "cell_type": "markdown",
   "metadata": {},
   "source": [
    "Transform the Index Label or Column Label using the Map function (Map function works only with Series, unlike Replace)"
   ]
  },
  {
   "cell_type": "code",
   "execution_count": null,
   "metadata": {},
   "outputs": [],
   "source": [
    "df1 = pd.read_json(json_file_path)\n",
    "f = lambda x: x.upper()\n",
    "\n",
    "df1.columns = df1.columns.map(f)\n",
    "df1"
   ]
  },
  {
   "attachments": {},
   "cell_type": "markdown",
   "metadata": {},
   "source": [
    "Rename the Column Label or Index Label using the Rename function"
   ]
  },
  {
   "cell_type": "code",
   "execution_count": null,
   "metadata": {},
   "outputs": [],
   "source": [
    "df1 = pd.read_json(json_file_path)\n",
    "\n",
    "df1 = df1.rename(index={0: \"Zero\", 2:\"TWO\"}, columns={\"sepalLength\": \"sepalLEN\", \"sepalWidth\": \"sepalWIDTH\"})\n",
    "df1"
   ]
  }
 ],
 "metadata": {
  "kernelspec": {
   "display_name": ".venv",
   "language": "python",
   "name": "python3"
  },
  "language_info": {
   "codemirror_mode": {
    "name": "ipython",
    "version": 3
   },
   "file_extension": ".py",
   "mimetype": "text/x-python",
   "name": "python",
   "nbconvert_exporter": "python",
   "pygments_lexer": "ipython3",
   "version": "3.8.10 (tags/v3.8.10:3d8993a, May  3 2021, 11:48:03) [MSC v.1928 64 bit (AMD64)]"
  },
  "orig_nbformat": 4,
  "vscode": {
   "interpreter": {
    "hash": "aa17f8e5e2b4ccee35835ff81fed7ecb411011bd099190c9408a5694b8529a38"
   }
  }
 },
 "nbformat": 4,
 "nbformat_minor": 2
}

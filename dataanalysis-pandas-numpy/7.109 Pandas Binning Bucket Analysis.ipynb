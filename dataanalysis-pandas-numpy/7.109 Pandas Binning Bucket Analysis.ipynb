{
 "cells": [
  {
   "cell_type": "code",
   "execution_count": null,
   "metadata": {},
   "outputs": [],
   "source": [
    "import pandas as pd\n",
    "import numpy as np\n",
    "\n",
    "df1 = pd.DataFrame( {\"Name\": ['Apple', 'Apple', 'Apple', 'Orange', 'Orange', 'Banana', 'Banana', 'Mango', 'Grape', 'Apple', 'Apple', 'Orange', 'Mango', 'Banana'], \n",
    "                    \"Location\": ['India', 'USA', 'UK', 'India', 'USA', 'USA', 'UK', 'India', 'USA', 'India', 'USA', 'India', 'USA', 'USA'],\n",
    "                    \"Cost\":[80, 120, 140, 70, 110, 50, 60, 90, 120, 85, 130, 80, 100, 70],\n",
    "                    \"Price\": [80, 120, 140, 70, 110, 50, 60, 90, 120, 85, 130, 80, 100, 70]})"
   ]
  },
  {
   "attachments": {},
   "cell_type": "markdown",
   "metadata": {},
   "source": [
    "BIN the values, use the BIN values in GROUP BY to group them or bucket them, and then use APPLY function"
   ]
  },
  {
   "cell_type": "code",
   "execution_count": null,
   "metadata": {},
   "outputs": [],
   "source": [
    "# Create a bin on the Cost\n",
    "bin = pd.cut(df1['Cost'], 4)\n",
    "\n",
    "# Create a groups or buckets\n",
    "df1_groups = df1['Cost'].groupby(bin)\n",
    "\n",
    "# APPLY statistics on the groups\n",
    "def stats(x):\n",
    "    return {'Mean':x.mean(), 'Median':x.median(), 'Max':x.max(), 'Min':x.min()}\n",
    "\n",
    "df1_groups.apply(stats)"
   ]
  }
 ],
 "metadata": {
  "kernelspec": {
   "display_name": ".venv",
   "language": "python",
   "name": "python3"
  },
  "language_info": {
   "codemirror_mode": {
    "name": "ipython",
    "version": 3
   },
   "file_extension": ".py",
   "mimetype": "text/x-python",
   "name": "python",
   "nbconvert_exporter": "python",
   "pygments_lexer": "ipython3",
   "version": "3.8.10"
  },
  "orig_nbformat": 4,
  "vscode": {
   "interpreter": {
    "hash": "aa17f8e5e2b4ccee35835ff81fed7ecb411011bd099190c9408a5694b8529a38"
   }
  }
 },
 "nbformat": 4,
 "nbformat_minor": 2
}

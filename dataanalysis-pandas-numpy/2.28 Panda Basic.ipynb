{
 "cells": [
  {
   "attachments": {},
   "cell_type": "markdown",
   "metadata": {},
   "source": [
    "Pandas Basics:\n",
    "\n",
    "While Panda is used for data reading/writting, data cleaning, reshaping, analysis,.. & Numpy is also used for data analysis. The difference is, numpy is used only for homogenous array (of same datatype) and panda can be used on hetrogenous arrays.\n",
    "\n",
    "There are two main functions is Pandas,\n",
    "1. Series\n",
    "2. Data Frames"
   ]
  }
 ],
 "metadata": {
  "kernelspec": {
   "display_name": ".venv",
   "language": "python",
   "name": "python3"
  },
  "language_info": {
   "name": "python",
   "version": "3.8.10 (tags/v3.8.10:3d8993a, May  3 2021, 11:48:03) [MSC v.1928 64 bit (AMD64)]"
  },
  "orig_nbformat": 4,
  "vscode": {
   "interpreter": {
    "hash": "aa17f8e5e2b4ccee35835ff81fed7ecb411011bd099190c9408a5694b8529a38"
   }
  }
 },
 "nbformat": 4,
 "nbformat_minor": 2
}

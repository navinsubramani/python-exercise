{
 "cells": [
  {
   "cell_type": "code",
   "execution_count": null,
   "metadata": {},
   "outputs": [],
   "source": [
    "import pandas as pd"
   ]
  },
  {
   "attachments": {},
   "cell_type": "markdown",
   "metadata": {},
   "source": [
    "Reindexing in Pandas Series"
   ]
  },
  {
   "cell_type": "code",
   "execution_count": null,
   "metadata": {},
   "outputs": [],
   "source": [
    "a = pd.Series([1,2,3,4,5], index=[0,1,2,3,4])\n",
    "print(a)\n",
    "b = a.reindex(['zero', 1, 'two', 3, 'four'])\n",
    "print(b)"
   ]
  },
  {
   "attachments": {},
   "cell_type": "markdown",
   "metadata": {},
   "source": [
    "Reindexing in Pandas Dataframe"
   ]
  },
  {
   "cell_type": "code",
   "execution_count": null,
   "metadata": {},
   "outputs": [],
   "source": [
    "df = pd.DataFrame({\n",
    "    'Subject':['English', 'Math', 'Science'],\n",
    "    'Score':[80,90,85],\n",
    "    'isPASS':[False, True, True]\n",
    "}, index=[1, 2, 3])\n",
    "print(df)\n",
    "\n",
    "df1 = df.reindex([3,2,1,0])\n",
    "print(df1)"
   ]
  },
  {
   "attachments": {},
   "cell_type": "markdown",
   "metadata": {},
   "source": [
    "Reindexing the Columns in Padas Dataframe"
   ]
  },
  {
   "cell_type": "code",
   "execution_count": null,
   "metadata": {},
   "outputs": [],
   "source": [
    "print(df)\n",
    "df1 = df.reindex(columns=[\"Subject\", \"isPASS\", \"Score\"])\n",
    "print(df1)"
   ]
  },
  {
   "attachments": {},
   "cell_type": "markdown",
   "metadata": {},
   "source": [
    "Drop the element or list from a Panda Series"
   ]
  },
  {
   "cell_type": "code",
   "execution_count": null,
   "metadata": {},
   "outputs": [],
   "source": [
    "a = pd.Series([1,2,3,4,5], index=[0,1,2,3,4])\n",
    "print(a)\n",
    "b = a.drop([0,2,4])\n",
    "print(b)"
   ]
  },
  {
   "attachments": {},
   "cell_type": "markdown",
   "metadata": {},
   "source": [
    "Drop a index or column from a Panda Dataframe"
   ]
  },
  {
   "cell_type": "code",
   "execution_count": null,
   "metadata": {},
   "outputs": [],
   "source": [
    "df = pd.DataFrame({\n",
    "    'Subject':['English', 'Math', 'Science'],\n",
    "    'Score':[80,90,85],\n",
    "    'isPASS':[False, True, True]\n",
    "}, index=[1, 2, 3])\n",
    "print(df)\n",
    "\n",
    "df1 = df.drop([1,3])\n",
    "print(df1)\n",
    "\n",
    "df1 = df.drop(['Score'], axis=1)\n",
    "print(df1)"
   ]
  },
  {
   "attachments": {},
   "cell_type": "markdown",
   "metadata": {},
   "source": [
    "Drop a index or column from a Panda Dataframe (Inplace Change)"
   ]
  },
  {
   "cell_type": "code",
   "execution_count": null,
   "metadata": {},
   "outputs": [],
   "source": [
    "df = pd.DataFrame({\n",
    "    'Subject':['English', 'Math', 'Science'],\n",
    "    'Score':[80,90,85],\n",
    "    'isPASS':[False, True, True]\n",
    "}, index=[1, 2, 3])\n",
    "print(df, end='\\n\\n')\n",
    "\n",
    "df1 = df.drop([1,3])\n",
    "print(df, end='\\n\\n')\n",
    "\n",
    "df.drop([1,3], inplace=True)\n",
    "print(df)"
   ]
  }
 ],
 "metadata": {
  "kernelspec": {
   "display_name": ".venv",
   "language": "python",
   "name": "python3"
  },
  "language_info": {
   "codemirror_mode": {
    "name": "ipython",
    "version": 3
   },
   "file_extension": ".py",
   "mimetype": "text/x-python",
   "name": "python",
   "nbconvert_exporter": "python",
   "pygments_lexer": "ipython3",
   "version": "3.8.10 (tags/v3.8.10:3d8993a, May  3 2021, 11:48:03) [MSC v.1928 64 bit (AMD64)]"
  },
  "orig_nbformat": 4,
  "vscode": {
   "interpreter": {
    "hash": "aa17f8e5e2b4ccee35835ff81fed7ecb411011bd099190c9408a5694b8529a38"
   }
  }
 },
 "nbformat": 4,
 "nbformat_minor": 2
}

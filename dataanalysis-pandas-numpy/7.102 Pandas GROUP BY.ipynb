{
 "cells": [
  {
   "cell_type": "code",
   "execution_count": null,
   "metadata": {},
   "outputs": [],
   "source": [
    "import pandas as pd\n",
    "import numpy as np\n",
    "\n",
    "df1 = pd.DataFrame( {\"Name\": ['Apple', 'Apple', 'Apple', 'Orange', 'Orange', 'Banana', 'Banana', 'Mango', 'Grape', 'Apple', 'Apple', 'Orange', 'Mango', 'Banana'], \n",
    "                    \"Location\": ['India', 'USA', 'UK', 'India', 'USA', 'USA', 'UK', 'India', 'USA', 'India', 'USA', 'India', 'USA', 'USA'],\n",
    "                    \"Cost\":[80, 120, 140, 70, 110, 50, 60, 90, 120, 85, 130, 80, 100, 70],\n",
    "                    \"Price\": [80, 120, 140, 70, 110, 50, 60, 90, 120, 85, 130, 80, 100, 70]})\n",
    "\n",
    "df1"
   ]
  },
  {
   "attachments": {},
   "cell_type": "markdown",
   "metadata": {},
   "source": [
    "GROUP BY clause with FOR loop"
   ]
  },
  {
   "cell_type": "code",
   "execution_count": null,
   "metadata": {},
   "outputs": [],
   "source": [
    "for name, group in df1.groupby('Name'):\n",
    "    print(name, group['Cost'].mean(), group, sep='\\n', end='\\n\\n')\n"
   ]
  },
  {
   "cell_type": "code",
   "execution_count": null,
   "metadata": {},
   "outputs": [],
   "source": [
    "for name, group in df1.groupby(['Name', 'Location']):\n",
    "    print(name, group.describe(), sep='\\n', end='\\n\\n')"
   ]
  },
  {
   "attachments": {},
   "cell_type": "markdown",
   "metadata": {},
   "source": [
    "GROUP BY columns using AXIS\n",
    "- Example on how to group the columns with different datatypes"
   ]
  },
  {
   "cell_type": "code",
   "execution_count": null,
   "metadata": {},
   "outputs": [],
   "source": [
    "for name, group in df1.groupby(df1.dtypes, axis=1):\n",
    "    print(name, group, sep='\\n', end='\\n\\n')"
   ]
  },
  {
   "attachments": {},
   "cell_type": "markdown",
   "metadata": {},
   "source": [
    "Grouping Columns using GROUP BY clause"
   ]
  },
  {
   "cell_type": "code",
   "execution_count": null,
   "metadata": {},
   "outputs": [],
   "source": [
    "group = {'Name':'G1', 'Location':'G1', 'Cost':'G2', 'Price':'G2'}\n",
    "# group = [1,1,2,2] # Same as above dictionary. Provide information that can be used to group and is equvalent to dataframe column or index\n",
    "# Panda Series Object can also be passed in place of group to help group the dataframes\n",
    "# Lambda function can also be used for grouping\n",
    "\n",
    "for name, group in df1.groupby(group, axis=1):\n",
    "    print(name, group, sep='\\n', end='\\n\\n')"
   ]
  },
  {
   "cell_type": "code",
   "execution_count": null,
   "metadata": {},
   "outputs": [],
   "source": [
    "# 1. Disctionary can be used for grouping\n",
    "# 2. group = [1,1,2,2] # Same as above dictionary. Provide information that can be used to group and is equvalent to dataframe column or index\n",
    "# 3. Panda Series Object can also be passed in place of group to help group the dataframes\n",
    "# 4. Lambda function can also be used for grouping\n",
    "# 5. Group by Multilevel Columns. Provide the Column Label Name as a input to the GROUPBY to group by the multilevel index"
   ]
  },
  {
   "attachments": {},
   "cell_type": "markdown",
   "metadata": {},
   "source": [
    "GROUP BY with aggregrate (AGG) function\n",
    "- AGG is applied on each group (dataframe) and its each Column"
   ]
  },
  {
   "cell_type": "code",
   "execution_count": null,
   "metadata": {},
   "outputs": [],
   "source": [
    "def max_min(x):\n",
    "    return x.max()-x.min()\n",
    "\n",
    "df1[['Cost', 'Price']].groupby(df1['Name']).agg([max_min, max, min])"
   ]
  },
  {
   "attachments": {},
   "cell_type": "markdown",
   "metadata": {},
   "source": [
    "GROUP BY with APPLY function\n",
    "- Apply function is applied on the each group (whole group dataframe)\n",
    "- The result will be similar to the AGG function"
   ]
  },
  {
   "cell_type": "code",
   "execution_count": null,
   "metadata": {},
   "outputs": [],
   "source": [
    "# 1. User can pass the Lambda function\n",
    "# 2. User can pass the user defined 'def' function\n",
    "# 3. User can pass the user defined 'def' function with input arguments\n",
    "\n",
    "def max_min(x):\n",
    "    return x.max()-x.min()\n",
    "\n",
    "df1[['Cost', 'Price']].groupby(df1['Name']).apply(min)"
   ]
  }
 ],
 "metadata": {
  "kernelspec": {
   "display_name": ".venv",
   "language": "python",
   "name": "python3"
  },
  "language_info": {
   "codemirror_mode": {
    "name": "ipython",
    "version": 3
   },
   "file_extension": ".py",
   "mimetype": "text/x-python",
   "name": "python",
   "nbconvert_exporter": "python",
   "pygments_lexer": "ipython3",
   "version": "3.8.10 (tags/v3.8.10:3d8993a, May  3 2021, 11:48:03) [MSC v.1928 64 bit (AMD64)]"
  },
  "orig_nbformat": 4,
  "vscode": {
   "interpreter": {
    "hash": "aa17f8e5e2b4ccee35835ff81fed7ecb411011bd099190c9408a5694b8529a38"
   }
  }
 },
 "nbformat": 4,
 "nbformat_minor": 2
}

{
 "cells": [
  {
   "cell_type": "code",
   "execution_count": null,
   "metadata": {},
   "outputs": [],
   "source": [
    "import pandas as pd"
   ]
  },
  {
   "cell_type": "code",
   "execution_count": null,
   "metadata": {},
   "outputs": [],
   "source": [
    "json_file_path = \"pandas_example_dataset_2.json\"\n",
    "\n",
    "df = pd.read_json(json_file_path)\n",
    "df"
   ]
  },
  {
   "attachments": {},
   "cell_type": "markdown",
   "metadata": {},
   "source": [
    "Find and summarize the missing values"
   ]
  },
  {
   "cell_type": "code",
   "execution_count": null,
   "metadata": {},
   "outputs": [],
   "source": [
    "print( df.isnull().sum() )"
   ]
  },
  {
   "attachments": {},
   "cell_type": "markdown",
   "metadata": {},
   "source": [
    "Drop the rows or columns with missing values"
   ]
  },
  {
   "cell_type": "code",
   "execution_count": null,
   "metadata": {},
   "outputs": [],
   "source": [
    "df1 = df.dropna()\n",
    "df1"
   ]
  },
  {
   "attachments": {},
   "cell_type": "markdown",
   "metadata": {},
   "source": [
    "Impute the missing values"
   ]
  },
  {
   "cell_type": "code",
   "execution_count": null,
   "metadata": {},
   "outputs": [],
   "source": [
    "# Replace with different values\n",
    "\n",
    "json_file_path = \"pandas_example_dataset_2.json\"\n",
    "\n",
    "df = pd.read_json(json_file_path)\n",
    "df.fillna('EMPTY')"
   ]
  },
  {
   "cell_type": "code",
   "execution_count": null,
   "metadata": {},
   "outputs": [],
   "source": [
    "# Replace with the immediate previous values\n",
    "\n",
    "json_file_path = \"pandas_example_dataset_2.json\"\n",
    "\n",
    "df = pd.read_json(json_file_path)\n",
    "df.fillna(method='ffill') # If there is no previous value, then NAN will be retained.\n",
    "# df.fillna(method='ffill, Limit=2) # Replaces with previous value if that is at a distance 2 or else NAN"
   ]
  },
  {
   "cell_type": "code",
   "execution_count": null,
   "metadata": {},
   "outputs": [],
   "source": [
    "# Replace with the statistical function\n",
    "\n",
    "json_file_path = \"pandas_example_dataset_2.json\"\n",
    "\n",
    "df = pd.read_json(json_file_path)\n",
    "a = df.fillna(df.mean())\n",
    "b = df.fillna(df.median())\n",
    "print(a, b)"
   ]
  },
  {
   "attachments": {},
   "cell_type": "markdown",
   "metadata": {},
   "source": [
    "Handling Duplicate Values"
   ]
  },
  {
   "cell_type": "code",
   "execution_count": null,
   "metadata": {},
   "outputs": [],
   "source": [
    "json_file_path = \"pandas_example_dataset_2.json\"\n",
    "df = pd.read_json(json_file_path)\n",
    "# print(df)\n",
    "\n",
    "a = df.duplicated(['petalLength'])\n",
    "print(a)\n",
    "\n",
    "b = df.drop_duplicates(['petalLength'])\n",
    "# b = df.drop_duplicates(['petalLength'], keep='last')\n",
    "print(b)"
   ]
  }
 ],
 "metadata": {
  "kernelspec": {
   "display_name": ".venv",
   "language": "python",
   "name": "python3"
  },
  "language_info": {
   "codemirror_mode": {
    "name": "ipython",
    "version": 3
   },
   "file_extension": ".py",
   "mimetype": "text/x-python",
   "name": "python",
   "nbconvert_exporter": "python",
   "pygments_lexer": "ipython3",
   "version": "3.8.10"
  },
  "orig_nbformat": 4,
  "vscode": {
   "interpreter": {
    "hash": "aa17f8e5e2b4ccee35835ff81fed7ecb411011bd099190c9408a5694b8529a38"
   }
  }
 },
 "nbformat": 4,
 "nbformat_minor": 2
}

{
 "cells": [
  {
   "cell_type": "code",
   "execution_count": null,
   "metadata": {},
   "outputs": [],
   "source": [
    "import pandas as pd\n",
    "import numpy as np\n",
    "\n",
    "# Not duplicate values\n",
    "df1 = pd.DataFrame( {\"Name\": ['Apple', 'Apple', 'Apple', 'Orange', 'Orange', 'Banana', 'Banana', 'Mango', 'Grape'], \n",
    "                    \"Location\": ['India', 'USA', 'UK', 'India', 'USA', 'USA', 'UK', 'India', 'USA'],\n",
    "                    \"Cost\":[80, 120, 140, 70, 110, 50, 60, 90, 120],\n",
    "                    \"Weight\" : [1, 1, 1, 2, 2, 3, 3, 4, 5] }\n",
    ")\n",
    "df1.index.name = 'ROW_NAME'\n",
    "\n",
    "# Some duplicate values\n",
    "df2 = pd.DataFrame( {\"Name\": ['Apple', 'Apple', 'Apple', 'Orange', 'Orange', 'Banana', 'Banana', 'Mango', 'Grape', 'Apple', 'Orange'], \n",
    "                    \"Location\": ['India', 'USA', 'UK', 'India', 'USA', 'USA', 'UK', 'India', 'USA', 'India', 'India'],\n",
    "                    \"Cost\":[80, 120, 140, 70, 110, 50, 60, 90, 120, 81, 71] }\n",
    ")\n",
    "df2.index.name = 'ROW_NAME'"
   ]
  },
  {
   "attachments": {},
   "cell_type": "markdown",
   "metadata": {},
   "source": [
    "PIVOT function can assign a columns as a Index, column & values\n",
    "- But it will not aggregate values in case of multiple values for index"
   ]
  },
  {
   "cell_type": "code",
   "execution_count": null,
   "metadata": {},
   "outputs": [],
   "source": [
    "df1_pivot = df1.pivot(index= 'Name', columns='Location', values='Cost')\n",
    "df1_pivot"
   ]
  },
  {
   "cell_type": "code",
   "execution_count": null,
   "metadata": {},
   "outputs": [],
   "source": [
    "df1_pivot = df1.pivot(index= 'Name', columns='Location', values=['Cost', 'Weight'])\n",
    "df1_pivot"
   ]
  },
  {
   "cell_type": "code",
   "execution_count": null,
   "metadata": {},
   "outputs": [],
   "source": [
    "df2_pivot = df2.pivot(index= 'Name', columns='Location', values='Cost')\n",
    "df2_pivot # This will throw error as there are multiple values for same (index, columns)"
   ]
  },
  {
   "attachments": {},
   "cell_type": "markdown",
   "metadata": {},
   "source": [
    "MELT function will reshape the dataframe\n",
    "- All columns will come under 'variable' column\n",
    "- All values of dataframe will come under 'Value' column\n",
    "- One column is used to group\n",
    "\n",
    "The output of the MELT function can be PIVOTED to get the input back (given no duplicate value are not in index)"
   ]
  },
  {
   "cell_type": "code",
   "execution_count": null,
   "metadata": {},
   "outputs": [],
   "source": [
    "df2 = pd.DataFrame( {\"Name\": ['Apple', 'Mango', 'Orange', 'Banana', 'Berry'],\n",
    "                    \"Place\": ['India', 'India', 'India', 'India', 'India'],\n",
    "                    \"Price\": [75, 85, 65, 25, 100]})\n",
    "\n",
    "print(df2, end='\\n\\n')\n",
    "\n",
    "df2_melt = pd.melt(df2, id_vars='Name')\n",
    "print(df2_melt)\n",
    "print(df2_melt.pivot(index='Name', columns='variable', values='value'))"
   ]
  }
 ],
 "metadata": {
  "kernelspec": {
   "display_name": ".venv",
   "language": "python",
   "name": "python3"
  },
  "language_info": {
   "codemirror_mode": {
    "name": "ipython",
    "version": 3
   },
   "file_extension": ".py",
   "mimetype": "text/x-python",
   "name": "python",
   "nbconvert_exporter": "python",
   "pygments_lexer": "ipython3",
   "version": "3.8.10 (tags/v3.8.10:3d8993a, May  3 2021, 11:48:03) [MSC v.1928 64 bit (AMD64)]"
  },
  "orig_nbformat": 4,
  "vscode": {
   "interpreter": {
    "hash": "aa17f8e5e2b4ccee35835ff81fed7ecb411011bd099190c9408a5694b8529a38"
   }
  }
 },
 "nbformat": 4,
 "nbformat_minor": 2
}

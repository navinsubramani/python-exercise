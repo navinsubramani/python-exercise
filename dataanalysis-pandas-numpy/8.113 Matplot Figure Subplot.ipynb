{
 "cells": [
  {
   "cell_type": "code",
   "execution_count": null,
   "metadata": {},
   "outputs": [],
   "source": [
    "#%matplotlib notebook\n",
    "import matplotlib.pyplot as plt\n",
    "import numpy as np"
   ]
  },
  {
   "attachments": {},
   "cell_type": "markdown",
   "metadata": {},
   "source": [
    "Create Figure -> Create Subplot -> Add the Subplot to the figure"
   ]
  },
  {
   "cell_type": "code",
   "execution_count": null,
   "metadata": {},
   "outputs": [],
   "source": [
    "# Create a figure object\n",
    "fig = plt.figure()\n",
    "\n",
    "# Add plot to the figure object\n",
    "# 2,2 represent thats there 2*2 squares in the figure\n",
    "# 1 represents that we are choosing 1st subplot out of 4\n",
    "ax1 = fig.add_subplot(2,2,1)\n",
    "ax2 = fig.add_subplot(2,2,2)\n",
    "ax3 = fig.add_subplot(2,2,3)\n",
    "ax4 = fig.add_subplot(2,2,4)\n",
    "\n",
    "ax1.hist(np.random.rand(100), bins=20, color='k')\n",
    "ax2.scatter(np.arange(32), np.arange(32)+3*np.random.rand(32))\n",
    "ax3.scatter(np.arange(32), np.arange(32)+3*np.random.rand(32))\n",
    "ax4.hist(np.random.rand(100), bins=20, color='k')\n",
    "\n",
    "plt.show()\n"
   ]
  },
  {
   "attachments": {},
   "cell_type": "markdown",
   "metadata": {},
   "source": [
    "Another way to Create a figure, Subplot and add Subplot to figure"
   ]
  },
  {
   "cell_type": "code",
   "execution_count": null,
   "metadata": {},
   "outputs": [],
   "source": [
    "fig, axis = plt.subplots(2,2)\n",
    "\n",
    "axis[0,0].hist(np.random.rand(100), bins=20, color='k')\n",
    "\n",
    "plt.show()"
   ]
  },
  {
   "attachments": {},
   "cell_type": "markdown",
   "metadata": {},
   "source": [
    "1. Share the X & Y axis across the Subplots\n",
    "2. Remove the space between the Subplots\n",
    "3. Multiple Plots in a Axis\n",
    "4. Configure the Color, Marker, Style & drawstyle of plots\n",
    "5. Configure the axis ticks, tick label, rotation, fonrt size\n"
   ]
  },
  {
   "cell_type": "code",
   "execution_count": null,
   "metadata": {},
   "outputs": [],
   "source": [
    "# Share the X & Y axis across the Subplots\n",
    "fig, axis = plt.subplots(2,2, sharex=True, sharey=False)\n",
    "\n",
    "# Remove the space between the Subplots\n",
    "plt.subplots_adjust(wspace=0, hspace=0)\n",
    "\n",
    "# Configure the Color, Marker & Style of plots\n",
    "axis[0,0].plot(np.random.rand(7), 'ro--', label='line') # r indicates red color and -- indicates the plot style\n",
    "axis[0,1].plot(np.random.rand(30)*10, np.random.rand(30), linestyle='--',  color='g', marker='o', drawstyle='steps-pre', label='step-plot')\n",
    "axis[1,1].hist(np.random.rand(32)*10, bins= [0,1,4,7,9,10], label='hist')\n",
    "\n",
    "# Multiple plots in a axis\n",
    "axis[1,0].plot(np.random.rand(10), 'go--', label='data1')\n",
    "axis[1,0].plot(np.random.rand(10), 'ro-', label='data2')\n",
    "\n",
    "# Configure the draw style\n",
    "axis[0,0].legend(loc='best')\n",
    "axis[0,1].legend(loc='best')\n",
    "axis[1,1].legend(loc='best')\n",
    "\n",
    "# Configure the axis ticks, tick label, rotation, fonrt size\n",
    "axis[0,1].set_xticks([0,2,.4,6,8,10])\n",
    "axis[1,1].set_xticklabels(['Zero', 2, 4, 6, 8, 'Ten'], rotation=90)\n",
    "axis[1,0].set_xticklabels(['Zero', 2, 4, 6, 8, 'Ten'], rotation=90)"
   ]
  }
 ],
 "metadata": {
  "kernelspec": {
   "display_name": ".venv",
   "language": "python",
   "name": "python3"
  },
  "language_info": {
   "codemirror_mode": {
    "name": "ipython",
    "version": 3
   },
   "file_extension": ".py",
   "mimetype": "text/x-python",
   "name": "python",
   "nbconvert_exporter": "python",
   "pygments_lexer": "ipython3",
   "version": "3.8.10 (tags/v3.8.10:3d8993a, May  3 2021, 11:48:03) [MSC v.1928 64 bit (AMD64)]"
  },
  "orig_nbformat": 4,
  "vscode": {
   "interpreter": {
    "hash": "aa17f8e5e2b4ccee35835ff81fed7ecb411011bd099190c9408a5694b8529a38"
   }
  }
 },
 "nbformat": 4,
 "nbformat_minor": 2
}

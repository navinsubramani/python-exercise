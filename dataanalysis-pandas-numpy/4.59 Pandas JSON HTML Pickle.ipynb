{
 "cells": [
  {
   "cell_type": "code",
   "execution_count": null,
   "metadata": {},
   "outputs": [],
   "source": [
    "import pandas as pd"
   ]
  },
  {
   "attachments": {},
   "cell_type": "markdown",
   "metadata": {},
   "source": [
    "Reading JSON data into Pandas dataframe"
   ]
  },
  {
   "cell_type": "code",
   "execution_count": null,
   "metadata": {},
   "outputs": [],
   "source": [
    "json_file_path = \"pandas_example_dataset_2.json\"\n",
    "\n",
    "a = pd.read_json(json_file_path)\n",
    "a"
   ]
  },
  {
   "attachments": {},
   "cell_type": "markdown",
   "metadata": {},
   "source": [
    "Reading HTML data into Pandas dataframe"
   ]
  },
  {
   "cell_type": "code",
   "execution_count": null,
   "metadata": {},
   "outputs": [],
   "source": [
    "URL = \"https://en.wikipedia.org/wiki/Minnesota\"\n",
    "\n",
    "a = pd.read_html(URL, match='Average daily maximum and minimum temperatures for selected cities in Minnesota')\n",
    "print(f\"Total tables: {len(a)}\")\n",
    "\n",
    "# Print the first table from the HTML page\n",
    "a[0]"
   ]
  },
  {
   "attachments": {},
   "cell_type": "markdown",
   "metadata": {},
   "source": [
    "Writting & Reading Pickle data into Pandas dataframe"
   ]
  },
  {
   "cell_type": "code",
   "execution_count": null,
   "metadata": {},
   "outputs": [],
   "source": [
    "json_file_path = \"pandas_example_dataset_2.json\"\n",
    "pickle_file_path = \"pandas_write_topickle\"\n",
    "a = pd.read_json(json_file_path)\n",
    "\n",
    "# Writting to Pickle\n",
    "a.to_pickle(pickle_file_path)\n",
    "\n",
    "# Reading from Pickle\n",
    "b = pd.read_pickle(pickle_file_path)\n",
    "b"
   ]
  }
 ],
 "metadata": {
  "kernelspec": {
   "display_name": ".venv",
   "language": "python",
   "name": "python3"
  },
  "language_info": {
   "codemirror_mode": {
    "name": "ipython",
    "version": 3
   },
   "file_extension": ".py",
   "mimetype": "text/x-python",
   "name": "python",
   "nbconvert_exporter": "python",
   "pygments_lexer": "ipython3",
   "version": "3.8.10"
  },
  "orig_nbformat": 4,
  "vscode": {
   "interpreter": {
    "hash": "aa17f8e5e2b4ccee35835ff81fed7ecb411011bd099190c9408a5694b8529a38"
   }
  }
 },
 "nbformat": 4,
 "nbformat_minor": 2
}

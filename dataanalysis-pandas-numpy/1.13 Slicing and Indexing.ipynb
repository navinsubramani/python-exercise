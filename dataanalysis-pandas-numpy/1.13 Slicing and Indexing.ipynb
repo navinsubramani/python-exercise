{
 "cells": [
  {
   "cell_type": "code",
   "execution_count": 1,
   "metadata": {},
   "outputs": [],
   "source": [
    "# Import the necessary libraries\n",
    "\n",
    "import numpy as np"
   ]
  },
  {
   "attachments": {},
   "cell_type": "markdown",
   "metadata": {},
   "source": [
    "Indexing & Slicing Operations of 1 Dimensional Array"
   ]
  },
  {
   "cell_type": "code",
   "execution_count": 2,
   "metadata": {},
   "outputs": [
    {
     "name": "stdout",
     "output_type": "stream",
     "text": [
      "5\n",
      "[2 3]\n"
     ]
    }
   ],
   "source": [
    "arr1 = np.array([0,1,2,3,4,5])\n",
    "print(arr1[5])\n",
    "print(arr1[2:4])"
   ]
  },
  {
   "attachments": {},
   "cell_type": "markdown",
   "metadata": {},
   "source": [
    "Propagation & Broadcast"
   ]
  },
  {
   "cell_type": "code",
   "execution_count": 3,
   "metadata": {},
   "outputs": [
    {
     "name": "stdout",
     "output_type": "stream",
     "text": [
      "[ 0  1 -1 -1  4  5]\n",
      "[ 0  1 -2 -2  4  5]\n"
     ]
    }
   ],
   "source": [
    "arr1 = np.array([0,1,2,3,4,5])\n",
    "arr1[2:4] = -1\n",
    "print(arr1)\n",
    "\n",
    "arr1[2:4] = [-2,-2]\n",
    "print(arr1)"
   ]
  },
  {
   "attachments": {},
   "cell_type": "markdown",
   "metadata": {},
   "source": [
    "Array slices are the views of the original array. So, any change to the np array will also effect the original np array"
   ]
  },
  {
   "cell_type": "code",
   "execution_count": 4,
   "metadata": {},
   "outputs": [
    {
     "name": "stdout",
     "output_type": "stream",
     "text": [
      "[ 0  1 -3 -3  4  5]\n"
     ]
    }
   ],
   "source": [
    "arr1 = np.array([0,1,2,3,4,5])\n",
    "arr1_sub = arr1[2:4]\n",
    "arr1_sub[:] = -3\n",
    "print(arr1)"
   ]
  },
  {
   "attachments": {},
   "cell_type": "markdown",
   "metadata": {},
   "source": [
    "Indexing & Slicing for a 2 Dimensional Array"
   ]
  },
  {
   "cell_type": "code",
   "execution_count": null,
   "metadata": {},
   "outputs": [],
   "source": [
    "arr1 = np.array([[0,1,2,3,4,5,6],[10,11,12,13,14,15,16],[20,21,22,23,24,25,26],[30,31,32,33,34,35,36]])\n",
    "print(arr1[3,4])\n",
    "print(arr1[:,4])\n",
    "print(arr1[1][3])"
   ]
  },
  {
   "attachments": {},
   "cell_type": "markdown",
   "metadata": {},
   "source": [
    "Indexing & Slicing for a 3 Dimensional Array"
   ]
  },
  {
   "cell_type": "code",
   "execution_count": null,
   "metadata": {},
   "outputs": [],
   "source": [
    "arr1 = np.array([[[0,1,2,3,4,5,6],[10,11,12,13,14,15,16],[20,21,22,23,24,25,26],[30,31,32,33,34,35,36]],\n",
    "[[100,101,102,103,104,105,106],[110,111,112,113,114,115,116],[120,121,122,123,124,125,126],[130,131,132,133,134,135,136]]])\n",
    "\n",
    "#[Depth][Row][Column]\n",
    "print(arr1[1][3][1])\n",
    "print(arr1[0][2][4])\n",
    "print(arr1[:,1,:])\n",
    "print(arr1[:][0][2])\n",
    "\n",
    "# Assign values to a array\n",
    "arr1[0] = 99\n",
    "# print(arr1)\n",
    "\n",
    "arr1[:,2:4,3]"
   ]
  },
  {
   "attachments": {},
   "cell_type": "markdown",
   "metadata": {},
   "source": [
    "Indexing and Slicing using Filters"
   ]
  },
  {
   "cell_type": "code",
   "execution_count": 5,
   "metadata": {},
   "outputs": [
    {
     "name": "stdout",
     "output_type": "stream",
     "text": [
      "[ True False  True False]\n",
      "[[ 0  1  2  3  4  5  6]\n",
      " [20 21 22 23 24 25 26]]\n",
      "[[ 0  2  4  6]\n",
      " [10 12 14 16]\n",
      " [20 22 24 26]\n",
      " [30 32 34 36]]\n"
     ]
    }
   ],
   "source": [
    "arr1 = np.array([[0,1,2,3,4,5,6],[10,11,12,13,14,15,16],[20,21,22,23,24,25,26],[30,31,32,33,34,35,36]])\n",
    "X_Filter = np.array([True,False,True,False])\n",
    "print(X_Filter==True)\n",
    "print(arr1[X_Filter == True,:])\n",
    "\n",
    "Y_Filter = np.array([True,False,True,False,True,False,True])\n",
    "print(arr1[:,Y_Filter==True])\n",
    "\n",
    "# print(arr1[X_Filter==True,Y_Filter==True]) - Understand why is this erroring out"
   ]
  },
  {
   "cell_type": "code",
   "execution_count": null,
   "metadata": {},
   "outputs": [],
   "source": [
    "arr1 = np.array([[0,1,2,3,4,5,6],[10,11,12,13,14,15,16],[20,21,22,23,24,25,26],[30,31,32,33,34,35,36]])\n",
    "\n",
    "print(arr1[arr1<13])\n",
    "\n",
    "arr1[arr1<13] = 0\n",
    "print(arr1)"
   ]
  },
  {
   "attachments": {},
   "cell_type": "markdown",
   "metadata": {},
   "source": [
    "Fancy Indexing"
   ]
  },
  {
   "cell_type": "code",
   "execution_count": 10,
   "metadata": {},
   "outputs": [
    {
     "name": "stdout",
     "output_type": "stream",
     "text": [
      "[10 20 30]\n",
      "[ 1 13 34]\n",
      "[10 11 13 15]\n"
     ]
    }
   ],
   "source": [
    "arr1 = np.array([[0,1,2,3,4,5,6],[10,11,12,13,14,15,16],[20,21,22,23,24,25,26],[30,31,32,33,34,35,36]])\n",
    "\n",
    "# Provide the list of rows or columns for indexing\n",
    "print(arr1[[1,2,3],[0]])\n",
    "print(arr1[[0,1,3],[1,3,4]])\n",
    "\n",
    "# Provide the output of one indexing as input to the next\n",
    "print(arr1[[1,3]][:,[0,1,3,5]][0,:])"
   ]
  },
  {
   "attachments": {},
   "cell_type": "markdown",
   "metadata": {},
   "source": [
    "Transpose Array"
   ]
  },
  {
   "cell_type": "code",
   "execution_count": 11,
   "metadata": {},
   "outputs": [
    {
     "name": "stdout",
     "output_type": "stream",
     "text": [
      "[[ 0  1  2  3  4  5  6  7]\n",
      " [ 8  9 10 11 12 13 14 15]\n",
      " [16 17 18 19 20 21 22 23]\n",
      " [24 25 26 27 28 29 30 31]]\n",
      "[[ 0  8 16 24]\n",
      " [ 1  9 17 25]\n",
      " [ 2 10 18 26]\n",
      " [ 3 11 19 27]\n",
      " [ 4 12 20 28]\n",
      " [ 5 13 21 29]\n",
      " [ 6 14 22 30]\n",
      " [ 7 15 23 31]]\n"
     ]
    }
   ],
   "source": [
    "arr1 = np.arange(32).reshape(4,8)\n",
    "print(arr1)\n",
    "\n",
    "arrT = arr1.transpose()\n",
    "print(arrT)\n"
   ]
  }
 ],
 "metadata": {
  "kernelspec": {
   "display_name": ".venv",
   "language": "python",
   "name": "python3"
  },
  "language_info": {
   "codemirror_mode": {
    "name": "ipython",
    "version": 3
   },
   "file_extension": ".py",
   "mimetype": "text/x-python",
   "name": "python",
   "nbconvert_exporter": "python",
   "pygments_lexer": "ipython3",
   "version": "3.8.10"
  },
  "orig_nbformat": 4,
  "vscode": {
   "interpreter": {
    "hash": "aa17f8e5e2b4ccee35835ff81fed7ecb411011bd099190c9408a5694b8529a38"
   }
  }
 },
 "nbformat": 4,
 "nbformat_minor": 2
}

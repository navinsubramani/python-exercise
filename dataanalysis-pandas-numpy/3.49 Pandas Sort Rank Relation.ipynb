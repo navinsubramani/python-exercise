{
 "cells": [
  {
   "cell_type": "code",
   "execution_count": null,
   "metadata": {},
   "outputs": [],
   "source": [
    "import pandas as pd"
   ]
  },
  {
   "attachments": {},
   "cell_type": "markdown",
   "metadata": {},
   "source": [
    "Sort Index in Series"
   ]
  },
  {
   "cell_type": "code",
   "execution_count": null,
   "metadata": {},
   "outputs": [],
   "source": [
    "a = pd.Series([3,4,1,2], index=['c', 'd', 'a', 'b'])\n",
    "print(a, a.sort_index(), sep='\\n\\n')"
   ]
  },
  {
   "attachments": {},
   "cell_type": "markdown",
   "metadata": {},
   "source": [
    "Sort Index (index/rows) in Dataframe"
   ]
  },
  {
   "cell_type": "code",
   "execution_count": null,
   "metadata": {},
   "outputs": [],
   "source": [
    "dict1 = {\n",
    "    2:[4,3,1,2],\n",
    "    3:[2,1,5,6],\n",
    "    1:[5,3,4,1]\n",
    "}\n",
    "a = pd.DataFrame(dict1, index=[3, 2, 4, 1])\n",
    "print(a, a.sort_index(), sep='\\n\\n')"
   ]
  },
  {
   "attachments": {},
   "cell_type": "markdown",
   "metadata": {},
   "source": [
    "Sort Index (columns) in Dataframe"
   ]
  },
  {
   "cell_type": "code",
   "execution_count": null,
   "metadata": {},
   "outputs": [],
   "source": [
    "dict1 = {\n",
    "    2:[4,3,1,2],\n",
    "    3:[2,1,5,6],\n",
    "    1:[5,3,4,1]\n",
    "}\n",
    "a = pd.DataFrame(dict1, index=[3, 2, 4, 1])\n",
    "print(a, a.sort_index(axis=1), sep='\\n\\n')"
   ]
  },
  {
   "attachments": {},
   "cell_type": "markdown",
   "metadata": {},
   "source": [
    "Sort Values in Dataframe (by Columns)"
   ]
  },
  {
   "cell_type": "code",
   "execution_count": null,
   "metadata": {},
   "outputs": [],
   "source": [
    "dict1 = {\n",
    "    2:[4,1,1,2],\n",
    "    3:[2,9,5,6],\n",
    "    1:[5,3,4,1]\n",
    "}\n",
    "a = pd.DataFrame(dict1, index=[3, 2, 4, 1])\n",
    "\n",
    "print(a, a.sort_values(by=[2, 3]), sep='\\n\\n')"
   ]
  },
  {
   "attachments": {},
   "cell_type": "markdown",
   "metadata": {},
   "source": [
    "Rank in Series (Ascending & Descending)"
   ]
  },
  {
   "cell_type": "code",
   "execution_count": null,
   "metadata": {},
   "outputs": [],
   "source": [
    "a = pd.Series([9,6,1,3], index=['c', 'd', 'a', 'b'])\n",
    "print(a, a.rank(), a.rank(ascending=False), sep='\\n\\n')"
   ]
  },
  {
   "attachments": {},
   "cell_type": "markdown",
   "metadata": {},
   "source": [
    "Rank in Dataframe (by Columns & by rows)"
   ]
  },
  {
   "cell_type": "code",
   "execution_count": null,
   "metadata": {},
   "outputs": [],
   "source": [
    "dict1 = {\n",
    "    2:[4,1,1,2],\n",
    "    3:[2,9,5,6],\n",
    "    1:[5,3,4,1]\n",
    "}\n",
    "a = pd.DataFrame(dict1, index=[3, 2, 4, 1])\n",
    "\n",
    "# by column\n",
    "print(a, a.rank(), sep='\\n\\n', end='\\n\\n')\n",
    "\n",
    "# by row\n",
    "print(a.rank(axis=1))"
   ]
  }
 ],
 "metadata": {
  "kernelspec": {
   "display_name": ".venv",
   "language": "python",
   "name": "python3"
  },
  "language_info": {
   "codemirror_mode": {
    "name": "ipython",
    "version": 3
   },
   "file_extension": ".py",
   "mimetype": "text/x-python",
   "name": "python",
   "nbconvert_exporter": "python",
   "pygments_lexer": "ipython3",
   "version": "3.8.10 (tags/v3.8.10:3d8993a, May  3 2021, 11:48:03) [MSC v.1928 64 bit (AMD64)]"
  },
  "orig_nbformat": 4,
  "vscode": {
   "interpreter": {
    "hash": "aa17f8e5e2b4ccee35835ff81fed7ecb411011bd099190c9408a5694b8529a38"
   }
  }
 },
 "nbformat": 4,
 "nbformat_minor": 2
}

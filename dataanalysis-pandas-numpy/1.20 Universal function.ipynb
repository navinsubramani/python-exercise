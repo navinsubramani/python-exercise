{
 "cells": [
  {
   "attachments": {},
   "cell_type": "markdown",
   "metadata": {},
   "source": [
    "Universal function is like a Map function in native python, which does a element wise operation on a data in ndarrays.\n",
    "\n",
    "There are various universal function in numpy like,\n",
    "1. Abs, fabs\n",
    "2. sqrt, dquare\n",
    "3. log, log10, log2, log1p\n",
    "4. sign\n",
    "5. Ceil\n",
    "6. Floor\n",
    "7. rint\n",
    "8. modf\n",
    "9. isnan\n",
    "10. isfinite, isinf\n",
    "11. cos, cosh, sin, sinh, tan, tanh\n",
    "12. arccos, arccosh, arcsin, arcsinh, arctan, arctanh, logicalnot"
   ]
  },
  {
   "cell_type": "code",
   "execution_count": 2,
   "metadata": {},
   "outputs": [
    {
     "name": "stdout",
     "output_type": "stream",
     "text": [
      "[ 0  1  4  9 16 25 36 49]\n",
      "[0.         1.         1.41421356 1.73205081 2.         2.23606798\n",
      " 2.44948974 2.64575131]\n"
     ]
    }
   ],
   "source": [
    "import numpy as np\n",
    "\n",
    "arr1 = np.arange(8)\n",
    "\n",
    "# Square universal function\n",
    "print(np.square(arr1))\n",
    "\n",
    "# Square root universal function\n",
    "print(np.sqrt(arr1))"
   ]
  },
  {
   "cell_type": "code",
   "execution_count": 3,
   "metadata": {},
   "outputs": [
    {
     "name": "stdout",
     "output_type": "stream",
     "text": [
      "[0.54594736 0.79649836 1.35993671 0.6532205  0.69049855 0.7192969\n",
      " 0.77182234 0.86015981]\n"
     ]
    }
   ],
   "source": [
    "arr1 = np.random.rand(8)\n",
    "arr2 = np.random.rand(8)\n",
    "\n",
    "print(np.add(arr1, arr2))\n",
    "\n"
   ]
  }
 ],
 "metadata": {
  "kernelspec": {
   "display_name": ".venv",
   "language": "python",
   "name": "python3"
  },
  "language_info": {
   "codemirror_mode": {
    "name": "ipython",
    "version": 3
   },
   "file_extension": ".py",
   "mimetype": "text/x-python",
   "name": "python",
   "nbconvert_exporter": "python",
   "pygments_lexer": "ipython3",
   "version": "3.8.10 (tags/v3.8.10:3d8993a, May  3 2021, 11:48:03) [MSC v.1928 64 bit (AMD64)]"
  },
  "orig_nbformat": 4,
  "vscode": {
   "interpreter": {
    "hash": "aa17f8e5e2b4ccee35835ff81fed7ecb411011bd099190c9408a5694b8529a38"
   }
  }
 },
 "nbformat": 4,
 "nbformat_minor": 2
}

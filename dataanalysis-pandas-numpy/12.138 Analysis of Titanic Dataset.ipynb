{
 "cells": [
  {
   "cell_type": "code",
   "execution_count": null,
   "metadata": {},
   "outputs": [],
   "source": [
    "import pandas as pd\n",
    "import numpy as np"
   ]
  },
  {
   "attachments": {},
   "cell_type": "markdown",
   "metadata": {},
   "source": [
    "Get the data from Seaborn"
   ]
  },
  {
   "cell_type": "code",
   "execution_count": null,
   "metadata": {},
   "outputs": [],
   "source": [
    "import seaborn as sns\n",
    "\n",
    "df_rawdata = sns.load_dataset('titanic')"
   ]
  },
  {
   "attachments": {},
   "cell_type": "markdown",
   "metadata": {},
   "source": [
    "Data Cleaning & Transformation"
   ]
  },
  {
   "cell_type": "code",
   "execution_count": null,
   "metadata": {},
   "outputs": [],
   "source": [
    "# Find the rows that has missing values using info to observer the details: Columns \"age, embarked, deck, embark_town\" has missing values\n",
    "    # df_rawdata.info()\n",
    "\n",
    "# Remove the duplicate\n",
    "    # print(df_rawdata.duplicated(keep='last').sum())\n",
    "df_transformed = df_rawdata.drop_duplicates()\n",
    "# df_transformed.info()\n",
    "df_transformed.to_csv('debug.csv')\n",
    "\n",
    "# Impute the age: by finding average age of women, man & child\n",
    "df_transformed['age'] = df_transformed['age'].groupby([df_transformed['who'], df_transformed['sex']]).apply(lambda x:x.fillna(x.mean()))\n",
    "\n",
    "# df_transformed['embarked'] = df_transformed['embarked'].fillna(method='ffill')\n",
    "# df_transformed['deck'] = df_transformed['deck'].fillna(method='ffill')\n",
    "# df_transformed['embark_town'] = df_transformed['embark_town'].fillna(method='ffill')\n",
    "\n",
    "# df_transformed.info()\n",
    "df_transformed.to_csv('debug1.csv')"
   ]
  },
  {
   "attachments": {},
   "cell_type": "markdown",
   "metadata": {},
   "source": [
    "Data Analysis: 'Who' vs 'Survival'"
   ]
  },
  {
   "cell_type": "code",
   "execution_count": null,
   "metadata": {},
   "outputs": [],
   "source": [
    "df_crosstab = pd.crosstab(df_transformed['who'], df_transformed['survived'])\n",
    "df_crosstab['survival rate'] = df_crosstab.apply(lambda x: x[1]/(x[0]+x[1]), axis=1)\n",
    "print(df_crosstab)\n",
    "df_crosstab.plot.bar()"
   ]
  },
  {
   "attachments": {},
   "cell_type": "markdown",
   "metadata": {},
   "source": [
    "Data Analysis: 'pclass' vs 'Survival'"
   ]
  },
  {
   "cell_type": "code",
   "execution_count": null,
   "metadata": {},
   "outputs": [],
   "source": [
    "df_crosstab = pd.crosstab(df_transformed['pclass'], df_transformed['survived'])\n",
    "df_crosstab['survival rate'] = df_crosstab.apply(lambda x: x[1]/(x[0]+x[1]), axis=1)\n",
    "print(df_crosstab)\n",
    "df_crosstab.plot.bar()"
   ]
  },
  {
   "attachments": {},
   "cell_type": "markdown",
   "metadata": {},
   "source": [
    "Data Analysis: 'Sex' vs 'Survival'"
   ]
  },
  {
   "cell_type": "code",
   "execution_count": null,
   "metadata": {},
   "outputs": [],
   "source": [
    "df_crosstab = pd.crosstab(df_transformed['sex'], df_transformed['survived'])\n",
    "df_crosstab['survival rate'] = df_crosstab.apply(lambda x: x[1]/(x[0]+x[1]), axis=1)\n",
    "print(df_crosstab)\n",
    "df_crosstab.plot.bar()"
   ]
  },
  {
   "attachments": {},
   "cell_type": "markdown",
   "metadata": {},
   "source": [
    "Data Analysis: 'alone' vs 'Survival'"
   ]
  },
  {
   "cell_type": "code",
   "execution_count": null,
   "metadata": {},
   "outputs": [],
   "source": [
    "df_crosstab = pd.crosstab(df_transformed['alone'], df_transformed['survived'])\n",
    "df_crosstab['survival rate'] = df_crosstab.apply(lambda x: x[1]/(x[0]+x[1]), axis=1)\n",
    "print(df_crosstab)\n",
    "df_crosstab.plot.bar()"
   ]
  },
  {
   "attachments": {},
   "cell_type": "markdown",
   "metadata": {},
   "source": [
    "Data Analysis: 'Age' vs 'Fare' vs 'Survived'"
   ]
  },
  {
   "cell_type": "code",
   "execution_count": null,
   "metadata": {},
   "outputs": [],
   "source": [
    "ax = df_transformed[df_transformed['survived']==1].plot.scatter(\n",
    "    x='age',\n",
    "    y='fare',\n",
    "    c='green',\n",
    "    label='Survived = True'   \n",
    ")\n",
    "df_transformed[df_transformed['survived']==0].plot.scatter(\n",
    "    x='age',\n",
    "    y='fare',\n",
    "    c='red',\n",
    "    label='Survived = False' ,\n",
    "    ax=ax  \n",
    ")"
   ]
  },
  {
   "attachments": {},
   "cell_type": "markdown",
   "metadata": {},
   "source": [
    "Data Analysis: 'Age' vs 'Survived' vs 'who'"
   ]
  },
  {
   "cell_type": "code",
   "execution_count": null,
   "metadata": {},
   "outputs": [],
   "source": [
    "df_pivot = df_transformed.pivot_table(index='survived', columns='who', values='age', aggfunc='mean')\n",
    "print(df_pivot)\n",
    "\n",
    "df_pivot.plot()"
   ]
  },
  {
   "attachments": {},
   "cell_type": "markdown",
   "metadata": {},
   "source": [
    "Data Analysis: 'Fare' vs 'Survival'"
   ]
  },
  {
   "cell_type": "code",
   "execution_count": null,
   "metadata": {},
   "outputs": [],
   "source": [
    "df_pivot = df_transformed.pivot_table(index='survived', columns='who', values='fare', aggfunc='mean')\n",
    "print(df_pivot)\n",
    "\n",
    "df_pivot.plot()"
   ]
  }
 ],
 "metadata": {
  "kernelspec": {
   "display_name": ".venv",
   "language": "python",
   "name": "python3"
  },
  "language_info": {
   "codemirror_mode": {
    "name": "ipython",
    "version": 3
   },
   "file_extension": ".py",
   "mimetype": "text/x-python",
   "name": "python",
   "nbconvert_exporter": "python",
   "pygments_lexer": "ipython3",
   "version": "3.8.10"
  },
  "orig_nbformat": 4,
  "vscode": {
   "interpreter": {
    "hash": "aa17f8e5e2b4ccee35835ff81fed7ecb411011bd099190c9408a5694b8529a38"
   }
  }
 },
 "nbformat": 4,
 "nbformat_minor": 2
}

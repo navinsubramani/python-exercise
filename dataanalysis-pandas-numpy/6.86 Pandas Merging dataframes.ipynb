{
 "cells": [
  {
   "cell_type": "code",
   "execution_count": null,
   "metadata": {},
   "outputs": [],
   "source": [
    "import pandas as pd\n",
    "import numpy as np\n",
    "\n",
    "# Creating two dataframes\n",
    "\n",
    "\n",
    "\n",
    "df1 = pd.DataFrame( {\"Name\": ['Apple', 'Apple', 'Apple', 'Orange', 'Orange', 'Banana', 'Banana', 'Mango', 'Grape'], \n",
    "                    \"Location\": ['India', 'USA', 'UK', 'India', 'USA', 'USA', 'UK', 'India', 'USA'],\n",
    "                    \"Cost\":[80, 120, 140, 70, 110, 50, 60, 90, 120] }\n",
    ")\n",
    "df1.index.name = 'ROW_NAME'\n",
    "\n",
    "df2 = pd.DataFrame( {\"Name\": ['Apple', 'Mango', 'Orange', 'Banana', 'Berry'],\n",
    "                    \"Place\": ['India', 'India', 'India', 'India', 'India'],\n",
    "                    \"Price\": [75, 85, 65, 25, 100]\n",
    "\n",
    "})\n",
    "df2.index.name = 'ROW_NAME'\n",
    "\n",
    "print(df1, df2, sep='\\n\\n')"
   ]
  },
  {
   "attachments": {},
   "cell_type": "markdown",
   "metadata": {},
   "source": [
    "Inner Merging Dataframes using Index"
   ]
  },
  {
   "cell_type": "code",
   "execution_count": null,
   "metadata": {},
   "outputs": [],
   "source": [
    "pd.merge(df1, df2, left_index=True, right_index=True)"
   ]
  },
  {
   "attachments": {},
   "cell_type": "markdown",
   "metadata": {},
   "source": [
    "Inner Merging Dataframes using common column\n",
    "- This is like picking only the common & matching elements"
   ]
  },
  {
   "cell_type": "code",
   "execution_count": null,
   "metadata": {},
   "outputs": [],
   "source": [
    "# Merges the two dataframes using common column names\n",
    "pd.merge(df1, df2)"
   ]
  },
  {
   "attachments": {},
   "cell_type": "markdown",
   "metadata": {},
   "source": [
    "Inner Merging Dataframes using different column"
   ]
  },
  {
   "cell_type": "code",
   "execution_count": null,
   "metadata": {},
   "outputs": [],
   "source": [
    "# Merges the two dataframes with different column name\n",
    "pd.merge(df1, df2, left_on=['Name', 'Location'], right_on=['Name', 'Place'])"
   ]
  },
  {
   "attachments": {},
   "cell_type": "markdown",
   "metadata": {},
   "source": [
    "Outer Merging Dataframes using same column name\n",
    "- This is like pickig all the elements irrespective of matching or not"
   ]
  },
  {
   "cell_type": "code",
   "execution_count": null,
   "metadata": {},
   "outputs": [],
   "source": [
    "pd.merge(df1, df2, how='outer')"
   ]
  },
  {
   "attachments": {},
   "cell_type": "markdown",
   "metadata": {},
   "source": [
    "Left and Right Merging Dataframes using same column names\n",
    "- Left joining merges the element into left dataframe\n",
    "- Right joining merges the elemet into the right dataframe"
   ]
  },
  {
   "cell_type": "code",
   "execution_count": null,
   "metadata": {},
   "outputs": [],
   "source": [
    "pd.merge(df1, df2, how='left')"
   ]
  },
  {
   "cell_type": "code",
   "execution_count": null,
   "metadata": {},
   "outputs": [],
   "source": [
    "pd.merge(df1, df2, how='right')"
   ]
  },
  {
   "attachments": {},
   "cell_type": "markdown",
   "metadata": {},
   "source": [
    "Merge using multiple keys"
   ]
  },
  {
   "cell_type": "code",
   "execution_count": null,
   "metadata": {},
   "outputs": [],
   "source": [
    "pd.merge(df1, df2, left_on=['Name', 'Location'], right_on=['Name', 'Place'], how='outer')"
   ]
  },
  {
   "attachments": {},
   "cell_type": "markdown",
   "metadata": {},
   "source": [
    "Merging using Column Name from 1 dataframe & Index from another dataframe"
   ]
  },
  {
   "cell_type": "code",
   "execution_count": null,
   "metadata": {},
   "outputs": [],
   "source": [
    "df3 = df2.set_index('Name')\n",
    "print(df3)\n",
    "\n",
    "pd.merge(df1, df3, left_on='Name', right_index=True)"
   ]
  },
  {
   "attachments": {},
   "cell_type": "markdown",
   "metadata": {},
   "source": [
    "Joining two dataframes using the Join function\n",
    "- by default, Join combines two dataframes using the index. Unlike, the merge function that uses the similar column names\n",
    "- Join function can be configured to use columns for one of the dataframe while combining"
   ]
  },
  {
   "cell_type": "code",
   "execution_count": null,
   "metadata": {},
   "outputs": [],
   "source": [
    "df3 = df1.set_index('Name')\n",
    "df4 = df2.set_index('Name')\n",
    "\n",
    "# print(df3, df4, sep='\\n\\n')\n",
    "\n",
    "df3.join(df4, how='outer')"
   ]
  },
  {
   "attachments": {},
   "cell_type": "markdown",
   "metadata": {},
   "source": [
    "Joining two dataframes using column from one and index from another"
   ]
  },
  {
   "cell_type": "code",
   "execution_count": null,
   "metadata": {},
   "outputs": [],
   "source": [
    "df4 = df2.set_index('Name')\n",
    "\n",
    "# print(df3, df4, sep='\\n\\n')\n",
    "\n",
    "df1.join(df4, on='Name' , how='inner')"
   ]
  },
  {
   "attachments": {},
   "cell_type": "markdown",
   "metadata": {},
   "source": [
    "Concatenate the series"
   ]
  },
  {
   "cell_type": "code",
   "execution_count": null,
   "metadata": {},
   "outputs": [],
   "source": [
    "a = pd.Series([1,2,3], index=['a', 'b', 'c'])\n",
    "b = pd.Series([1,4], index=['a', 'd'])\n",
    "c = pd.Series([1, 3, 5], index=['a', 'c', 'e'])\n",
    "\n",
    "# Concatenate in indexs\n",
    "print(pd.concat([a,b,c]), end='\\n\\n')\n",
    "\n",
    "# Concatenate as new columns\n",
    "print(pd.concat([a,b,c], axis=1, keys=['col1', 'col2', 'col3']), end='\\n\\n')\n",
    "print(pd.concat([a,b,c], axis=1, keys=['col1', 'col2', 'col3'], join='inner'))"
   ]
  },
  {
   "attachments": {},
   "cell_type": "markdown",
   "metadata": {},
   "source": [
    "Concatenate the dataframe"
   ]
  },
  {
   "cell_type": "code",
   "execution_count": null,
   "metadata": {},
   "outputs": [],
   "source": [
    "print(pd.concat([df1, df2], axis=1))"
   ]
  },
  {
   "attachments": {},
   "cell_type": "markdown",
   "metadata": {},
   "source": [
    "'Combine First' datasets\n",
    "- When we combine two dataset, it can be used to fill in the missing values of first dataset using the second dataset"
   ]
  },
  {
   "cell_type": "code",
   "execution_count": null,
   "metadata": {},
   "outputs": [],
   "source": [
    "a = pd.DataFrame({'a': [1, np.nan, 3, np.nan], 'b' : [11, 12, np.nan, 14], 'c' : [21, 22, 23, np.nan]})\n",
    "b = pd.DataFrame({ 'a': [101, 102, 103], 'b': [201, 202, 203]})\n",
    "\n",
    "print(a.combine_first(b))"
   ]
  }
 ],
 "metadata": {
  "kernelspec": {
   "display_name": ".venv",
   "language": "python",
   "name": "python3"
  },
  "language_info": {
   "codemirror_mode": {
    "name": "ipython",
    "version": 3
   },
   "file_extension": ".py",
   "mimetype": "text/x-python",
   "name": "python",
   "nbconvert_exporter": "python",
   "pygments_lexer": "ipython3",
   "version": "3.8.10"
  },
  "orig_nbformat": 4,
  "vscode": {
   "interpreter": {
    "hash": "aa17f8e5e2b4ccee35835ff81fed7ecb411011bd099190c9408a5694b8529a38"
   }
  }
 },
 "nbformat": 4,
 "nbformat_minor": 2
}

{
 "cells": [
  {
   "cell_type": "code",
   "execution_count": 3,
   "metadata": {},
   "outputs": [],
   "source": [
    "import numpy as np"
   ]
  },
  {
   "attachments": {},
   "cell_type": "markdown",
   "metadata": {},
   "source": [
    "Meshgrid"
   ]
  },
  {
   "cell_type": "code",
   "execution_count": null,
   "metadata": {},
   "outputs": [],
   "source": [
    "Xaxis = np.arange(1,11,1)\n",
    "Yaxis = np.arange(1,9,1)\n",
    "\n",
    "Xs, Ys = np.meshgrid(Xaxis, Yaxis)\n",
    "\n",
    "# print(Xs, Ys)\n",
    "arr = np.add(Xs, Ys)\n",
    "print(Xs, Ys, arr, sep=\"\\n\\n\")"
   ]
  },
  {
   "attachments": {},
   "cell_type": "markdown",
   "metadata": {},
   "source": [
    "np.where is similar to native python x if a else b. It can be used to pick a element from a or b, based on a True of False condition"
   ]
  },
  {
   "cell_type": "code",
   "execution_count": 3,
   "metadata": {},
   "outputs": [
    {
     "name": "stdout",
     "output_type": "stream",
     "text": [
      "[  0 101   2 103   4 105   6 107   8 109]\n",
      "[ True False  True False  True False  True False  True False]\n",
      "[  1 101   1 103   1 105   1 107   1 109]\n"
     ]
    }
   ],
   "source": [
    "a = np.arange(10)\n",
    "b = np.arange(100,110,1)\n",
    "c = np.array([True, False, True, False, True, False, True, False, True, False])\n",
    "\n",
    "# both array\n",
    "print(np.where(c, a, b))\n",
    "# both scalar\n",
    "print(np.where(a%2==0, True, False))\n",
    "# Scalar & array\n",
    "print(np.where(a%2==0, True, b))"
   ]
  }
 ],
 "metadata": {
  "kernelspec": {
   "display_name": ".venv",
   "language": "python",
   "name": "python3"
  },
  "language_info": {
   "codemirror_mode": {
    "name": "ipython",
    "version": 3
   },
   "file_extension": ".py",
   "mimetype": "text/x-python",
   "name": "python",
   "nbconvert_exporter": "python",
   "pygments_lexer": "ipython3",
   "version": "3.8.10"
  },
  "orig_nbformat": 4,
  "vscode": {
   "interpreter": {
    "hash": "aa17f8e5e2b4ccee35835ff81fed7ecb411011bd099190c9408a5694b8529a38"
   }
  }
 },
 "nbformat": 4,
 "nbformat_minor": 2
}

{
 "cells": [
  {
   "cell_type": "code",
   "execution_count": null,
   "metadata": {},
   "outputs": [],
   "source": [
    "import pandas as pd\n",
    "import numpy as np"
   ]
  },
  {
   "attachments": {},
   "cell_type": "markdown",
   "metadata": {},
   "source": [
    "Subtraction : Row wise (normal)"
   ]
  },
  {
   "cell_type": "code",
   "execution_count": null,
   "metadata": {},
   "outputs": [],
   "source": [
    "x = pd.DataFrame(np.arange(32).reshape(8, 4), index=['row1', 'row2', 'row3', 'row4', 'row5', 'row6', 'row7', 'row8'] ,columns=['col1', 'col2', 'col3', 'col4'])\n",
    "y = x.iloc[0]\n",
    "\n",
    "print(x, y, x-y, sep='\\n\\n')"
   ]
  },
  {
   "attachments": {},
   "cell_type": "markdown",
   "metadata": {},
   "source": [
    "Subtraction : Column wise (sub)"
   ]
  },
  {
   "cell_type": "code",
   "execution_count": null,
   "metadata": {},
   "outputs": [],
   "source": [
    "x = pd.DataFrame(np.arange(32).reshape(8, 4), index=['row1', 'row2', 'row3', 'row4', 'row5', 'row6', 'row7', 'row8'] ,columns=['col1', 'col2', 'col3', 'col4'])\n",
    "y = x[\"col1\"]\n",
    "print(x, y, x.sub(y, axis='index'), sep='\\n\\n')"
   ]
  },
  {
   "attachments": {},
   "cell_type": "markdown",
   "metadata": {},
   "source": [
    "Reverse Subtraction (rsub)"
   ]
  },
  {
   "cell_type": "code",
   "execution_count": null,
   "metadata": {},
   "outputs": [],
   "source": [
    "print(x, y, x.rsub(y, axis='index'), sep='\\n\\n')"
   ]
  },
  {
   "attachments": {},
   "cell_type": "markdown",
   "metadata": {},
   "source": [
    "Missing Column-Index match while Arithmetic Operation"
   ]
  },
  {
   "cell_type": "code",
   "execution_count": null,
   "metadata": {},
   "outputs": [],
   "source": [
    "x = pd.DataFrame(np.arange(32).reshape(8, 4), index=['row1', 'row2', 'row3', 'row4', 'row5', 'row6', 'row7', 'row8'] ,columns=['col1', 'col2', 'col3', 'col4'])\n",
    "y = pd.Series([0,1,2,3], index=[\"row1\", 'row2', 'row3', 'row4'])\n",
    "#print(x, y, x.sub(y, axis='index'), sep='\\n\\n', end='\\n\\n')\n",
    "\n",
    "z = pd.DataFrame(np.arange(8).reshape(4,2), index=['row1', 'row2', 'row3', 'row4'], columns=['col1', 'col2'])\n",
    "print(x, z, x.add(z), sep='\\n\\n')"
   ]
  },
  {
   "attachments": {},
   "cell_type": "markdown",
   "metadata": {},
   "source": [
    "If Missing Column-Index match, Fill Value while Arithmetic Operation"
   ]
  },
  {
   "cell_type": "code",
   "execution_count": null,
   "metadata": {},
   "outputs": [],
   "source": [
    "x = pd.DataFrame(np.arange(32).reshape(8, 4), index=['row1', 'row2', 'row3', 'row4', 'row5', 'row6', 'row7', 'row8'] ,columns=['col1', 'col2', 'col3', 'col4'])\n",
    "z = pd.DataFrame(np.arange(8).reshape(4,2), index=['row1', 'row2', 'row3', 'row4'], columns=['col1', 'col2'])\n",
    "\n",
    "print(x, z, x.add(z, fill_value=1000), sep='\\n\\n')"
   ]
  }
 ],
 "metadata": {
  "kernelspec": {
   "display_name": ".venv",
   "language": "python",
   "name": "python3"
  },
  "language_info": {
   "codemirror_mode": {
    "name": "ipython",
    "version": 3
   },
   "file_extension": ".py",
   "mimetype": "text/x-python",
   "name": "python",
   "nbconvert_exporter": "python",
   "pygments_lexer": "ipython3",
   "version": "3.8.10"
  },
  "orig_nbformat": 4,
  "vscode": {
   "interpreter": {
    "hash": "aa17f8e5e2b4ccee35835ff81fed7ecb411011bd099190c9408a5694b8529a38"
   }
  }
 },
 "nbformat": 4,
 "nbformat_minor": 2
}

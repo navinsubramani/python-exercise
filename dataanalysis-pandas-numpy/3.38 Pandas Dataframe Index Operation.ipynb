{
 "cells": [
  {
   "cell_type": "code",
   "execution_count": null,
   "metadata": {},
   "outputs": [],
   "source": [
    "import pandas as pd"
   ]
  },
  {
   "cell_type": "code",
   "execution_count": null,
   "metadata": {},
   "outputs": [],
   "source": [
    "data =  {\n",
    "        'Subject':{'one': 'English', 'two':'Math', 'three':'Science'},\n",
    "        'Marks':{'one': 80},\n",
    "        'Teacher':{'three':'Adam', 'two':'Lina'}\n",
    "        }\n",
    "\n",
    "df = pd.DataFrame(data, columns=['Subject', 'Teacher', 'Marks'])\n",
    "df"
   ]
  },
  {
   "cell_type": "code",
   "execution_count": null,
   "metadata": {},
   "outputs": [],
   "source": [
    "print(df.columns, df.index, sep='\\n')\n",
    "print('Marks' in df.columns, \"Mar\" in df.columns)\n",
    "print(\"one\" in df.index, 1 in df.index)"
   ]
  },
  {
   "attachments": {},
   "cell_type": "markdown",
   "metadata": {},
   "source": [
    "Index are immutable"
   ]
  },
  {
   "cell_type": "code",
   "execution_count": null,
   "metadata": {},
   "outputs": [],
   "source": [
    "df.index[0] = \"1\"\n",
    "\n",
    "# This will throw error as the index are immutable"
   ]
  },
  {
   "attachments": {},
   "cell_type": "markdown",
   "metadata": {},
   "source": [
    "Index are repeatable or need not be unique"
   ]
  },
  {
   "cell_type": "code",
   "execution_count": null,
   "metadata": {},
   "outputs": [],
   "source": [
    "df.index = [1,2,1]\n",
    "print(df, end=\"\\n\\n\")\n",
    "\n",
    "df.columns = [\"Subject\", \"Subject\", \"Marks\"]\n",
    "print(df)\n",
    "\n",
    "df[\"Subject\"]"
   ]
  }
 ],
 "metadata": {
  "kernelspec": {
   "display_name": ".venv",
   "language": "python",
   "name": "python3"
  },
  "language_info": {
   "codemirror_mode": {
    "name": "ipython",
    "version": 3
   },
   "file_extension": ".py",
   "mimetype": "text/x-python",
   "name": "python",
   "nbconvert_exporter": "python",
   "pygments_lexer": "ipython3",
   "version": "3.8.10 (tags/v3.8.10:3d8993a, May  3 2021, 11:48:03) [MSC v.1928 64 bit (AMD64)]"
  },
  "orig_nbformat": 4,
  "vscode": {
   "interpreter": {
    "hash": "aa17f8e5e2b4ccee35835ff81fed7ecb411011bd099190c9408a5694b8529a38"
   }
  }
 },
 "nbformat": 4,
 "nbformat_minor": 2
}

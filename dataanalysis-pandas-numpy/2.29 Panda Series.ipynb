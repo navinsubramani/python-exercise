{
 "cells": [
  {
   "attachments": {},
   "cell_type": "markdown",
   "metadata": {},
   "source": [
    "Panda Series Creation"
   ]
  },
  {
   "cell_type": "code",
   "execution_count": null,
   "metadata": {},
   "outputs": [],
   "source": [
    "import pandas as pd\n",
    "\n",
    "x = pd.Series([10,20,30,40,50])\n",
    "x"
   ]
  },
  {
   "cell_type": "code",
   "execution_count": 4,
   "metadata": {},
   "outputs": [
    {
     "name": "stdout",
     "output_type": "stream",
     "text": [
      "RangeIndex(start=0, stop=5, step=1)\n",
      "[10 20 30 40 50]\n"
     ]
    }
   ],
   "source": [
    "print(x.index, x.values, sep='\\n')"
   ]
  },
  {
   "cell_type": "code",
   "execution_count": null,
   "metadata": {},
   "outputs": [],
   "source": [
    "print(x[0], x[2], x[3], x[[1,4]], x[1:3],sep='\\n')"
   ]
  },
  {
   "attachments": {},
   "cell_type": "markdown",
   "metadata": {},
   "source": [
    "Panda Series - with label information"
   ]
  },
  {
   "cell_type": "code",
   "execution_count": 28,
   "metadata": {},
   "outputs": [
    {
     "name": "stdout",
     "output_type": "stream",
     "text": [
      "a    10\n",
      "b    20\n",
      "c    30\n",
      "d    40\n",
      "e    50\n",
      "dtype: int64\n",
      "Index(['a', 'b', 'c', 'd', 'e'], dtype='object')\n",
      "[10 20 30 40 50]\n"
     ]
    }
   ],
   "source": [
    "x = pd.Series([10,20,30,40,50], index=['a','b','c','d','e'])\n",
    "print(x, x.index, x.values, sep='\\n')"
   ]
  },
  {
   "cell_type": "code",
   "execution_count": null,
   "metadata": {},
   "outputs": [],
   "source": [
    "print(x['a'], x[['b','a']], x['b':'d'], sep=\"\\n\")\n"
   ]
  },
  {
   "attachments": {},
   "cell_type": "markdown",
   "metadata": {},
   "source": [
    "Filter series"
   ]
  },
  {
   "cell_type": "code",
   "execution_count": 52,
   "metadata": {},
   "outputs": [
    {
     "name": "stdout",
     "output_type": "stream",
     "text": [
      "a     True\n",
      "b     True\n",
      "c    False\n",
      "d    False\n",
      "e    False\n",
      "dtype: bool\n",
      "a    10\n",
      "b    20\n",
      "dtype: int64\n"
     ]
    }
   ],
   "source": [
    "print(x<25)\n",
    "\n",
    "print(x[x<25])"
   ]
  },
  {
   "attachments": {},
   "cell_type": "markdown",
   "metadata": {},
   "source": [
    "Create Series using Disctionaries"
   ]
  },
  {
   "cell_type": "code",
   "execution_count": null,
   "metadata": {},
   "outputs": [],
   "source": [
    "dict = {\"a\":1, \"b\":2, \"c\":3, \"d\":4}\n",
    "y = pd.Series(dict)\n",
    "print(y)\n",
    "\n",
    "ind = ['e', 'd', 'c', 'b', 'a']\n",
    "y = pd.Series(dict, index=ind)\n",
    "print(y)\n",
    "\n",
    "print(y.isnull())"
   ]
  },
  {
   "attachments": {},
   "cell_type": "markdown",
   "metadata": {},
   "source": [
    "Changing index, object name and index name"
   ]
  },
  {
   "cell_type": "code",
   "execution_count": 51,
   "metadata": {},
   "outputs": [
    {
     "name": "stdout",
     "output_type": "stream",
     "text": [
      "Yobject\n",
      "Yobject \n",
      "\n",
      "Yindex\n",
      "e1    NaN\n",
      "d1    4.0\n",
      "c1    3.0\n",
      "b1    2.0\n",
      "a1    1.0\n",
      "Name: Yobject, dtype: float64\n"
     ]
    }
   ],
   "source": [
    "print(y.name)\n",
    "y.name = \"Yobject\"\n",
    "print(y.name, \"\\n\")\n",
    "\n",
    "y.index = ['e1','d1','c1','b1', 'a1']\n",
    "y.index.name = 'Yindex'\n",
    "print(y)"
   ]
  },
  {
   "attachments": {},
   "cell_type": "markdown",
   "metadata": {},
   "source": [
    "Creating a series of datatype string"
   ]
  },
  {
   "cell_type": "code",
   "execution_count": 56,
   "metadata": {},
   "outputs": [
    {
     "data": {
      "text/plain": [
       "1      a\n",
       "2      b\n",
       "3      c\n",
       "4    NaN\n",
       "dtype: object"
      ]
     },
     "execution_count": 56,
     "metadata": {},
     "output_type": "execute_result"
    }
   ],
   "source": [
    "dict = {1:'a', 2:'b', 3:'c'}\n",
    "ind = [1,2,3,4]\n",
    "\n",
    "x = pd.Series(dict, index=ind)\n",
    "x"
   ]
  }
 ],
 "metadata": {
  "kernelspec": {
   "display_name": ".venv",
   "language": "python",
   "name": "python3"
  },
  "language_info": {
   "codemirror_mode": {
    "name": "ipython",
    "version": 3
   },
   "file_extension": ".py",
   "mimetype": "text/x-python",
   "name": "python",
   "nbconvert_exporter": "python",
   "pygments_lexer": "ipython3",
   "version": "3.8.10"
  },
  "orig_nbformat": 4,
  "vscode": {
   "interpreter": {
    "hash": "aa17f8e5e2b4ccee35835ff81fed7ecb411011bd099190c9408a5694b8529a38"
   }
  }
 },
 "nbformat": 4,
 "nbformat_minor": 2
}

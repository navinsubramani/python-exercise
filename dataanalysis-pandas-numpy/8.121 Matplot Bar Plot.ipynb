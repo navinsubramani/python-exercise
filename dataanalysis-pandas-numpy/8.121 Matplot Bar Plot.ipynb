{
 "cells": [
  {
   "cell_type": "code",
   "execution_count": null,
   "metadata": {},
   "outputs": [],
   "source": [
    "import matplotlib.pyplot as plt\n",
    "import numpy as np"
   ]
  },
  {
   "attachments": {},
   "cell_type": "markdown",
   "metadata": {},
   "source": [
    "Create a simple VERTICAL BAR plot\n",
    "Create a simple HORIZONTAL BAR plot"
   ]
  },
  {
   "cell_type": "code",
   "execution_count": null,
   "metadata": {},
   "outputs": [],
   "source": [
    "fig, axis = plt.subplots(2,1)\n",
    "\n",
    "axis[0].bar([\"Apple\", \"Orange\", \"Mango\", \"Berry\"], [10, 15, 12, 18])\n",
    "axis[1].barh([\"Apple\", \"Orange\", \"Mango\", \"Berry\"], [10, 15, 12, 18])"
   ]
  },
  {
   "attachments": {},
   "cell_type": "markdown",
   "metadata": {},
   "source": [
    "Create a multiplot BAR plot"
   ]
  },
  {
   "cell_type": "code",
   "execution_count": null,
   "metadata": {},
   "outputs": [],
   "source": [
    "fig, axis = plt.subplots(1,1)\n",
    "width = 0.25\n",
    "ticks = np.arange(4)\n",
    "\n",
    "axis.bar(ticks, [10, 15, 12, 18], color = 'r', width = width)\n",
    "axis.bar(ticks + width, [5, 12, 16, 10], color='g', width = width)\n",
    "\n",
    "axis.set_xticks(ticks)\n",
    "axis.set_xticklabels([\"Apple\", \"Orange\", \"Mango\", \"Berry\"])"
   ]
  }
 ],
 "metadata": {
  "kernelspec": {
   "display_name": ".venv",
   "language": "python",
   "name": "python3"
  },
  "language_info": {
   "codemirror_mode": {
    "name": "ipython",
    "version": 3
   },
   "file_extension": ".py",
   "mimetype": "text/x-python",
   "name": "python",
   "nbconvert_exporter": "python",
   "pygments_lexer": "ipython3",
   "version": "3.8.10 (tags/v3.8.10:3d8993a, May  3 2021, 11:48:03) [MSC v.1928 64 bit (AMD64)]"
  },
  "orig_nbformat": 4,
  "vscode": {
   "interpreter": {
    "hash": "aa17f8e5e2b4ccee35835ff81fed7ecb411011bd099190c9408a5694b8529a38"
   }
  }
 },
 "nbformat": 4,
 "nbformat_minor": 2
}

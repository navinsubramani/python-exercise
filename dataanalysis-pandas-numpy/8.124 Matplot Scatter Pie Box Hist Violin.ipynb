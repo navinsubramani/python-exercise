{
 "cells": [
  {
   "cell_type": "code",
   "execution_count": null,
   "metadata": {},
   "outputs": [],
   "source": [
    "import matplotlib.pyplot as plt\n",
    "import pandas as pd\n",
    "import numpy as np"
   ]
  },
  {
   "attachments": {},
   "cell_type": "markdown",
   "metadata": {},
   "source": [
    "Scatter Plot"
   ]
  },
  {
   "cell_type": "code",
   "execution_count": null,
   "metadata": {},
   "outputs": [],
   "source": [
    "fig, axis = plt.subplots(1,1)\n",
    "\n",
    "df1 = pd.DataFrame( {\"Name\": ['Apple', 'Apple', 'Apple', 'Orange', 'Orange', 'Banana', 'Banana', 'Mango', 'Grape'], \n",
    "                    \"Location\": ['India', 'USA', 'UK', 'India', 'USA', 'USA', 'UK', 'India', 'USA'],\n",
    "                    \"Cost\":[80, 120, 140, 70, 110, 50, 60, 90, 120],\n",
    "                    \"Weight\" : [1, 1, 1, 2, 2, 3, 3, 4, 5] }\n",
    ")\n",
    "\n",
    "df1_new = df1['Cost'].groupby(df1['Name']).mean()\n",
    "\n",
    "axis.scatter(df1_new.index, df1_new, label='Fruits')\n",
    "axis.legend(loc='best')"
   ]
  },
  {
   "attachments": {},
   "cell_type": "markdown",
   "metadata": {},
   "source": [
    "Pie Chart"
   ]
  },
  {
   "cell_type": "code",
   "execution_count": null,
   "metadata": {},
   "outputs": [],
   "source": [
    "fig, axis = plt.subplots(1,1)\n",
    "\n",
    "df1 = pd.DataFrame( {\"Name\": ['Apple', 'Apple', 'Apple', 'Orange', 'Orange', 'Banana', 'Banana', 'Mango', 'Grape'], \n",
    "                    \"Location\": ['India', 'USA', 'UK', 'India', 'USA', 'USA', 'UK', 'India', 'USA'],\n",
    "                    \"Cost\":[80, 120, 140, 70, 110, 50, 60, 90, 120],\n",
    "                    \"Weight\" : [1, 1, 1, 2, 2, 3, 3, 4, 5] }\n",
    ")\n",
    "df1_new = df1['Cost'].groupby(df1['Name']).sum()\n",
    "\n",
    "axis.axis('equal')\n",
    "axis.pie(df1_new.values, labels=df1_new.index.values, autopct='%1.2f%%', explode=(0,0,0,0.1,0))\n",
    "axis.legend(loc='best')"
   ]
  },
  {
   "attachments": {},
   "cell_type": "markdown",
   "metadata": {},
   "source": [
    "Box Plot"
   ]
  },
  {
   "cell_type": "code",
   "execution_count": null,
   "metadata": {},
   "outputs": [],
   "source": [
    "fig, axis = plt.subplots(1,1)\n",
    "\n",
    "data = [\n",
    "    np.random.normal(100, 10 ,100),\n",
    "    np.random.normal(80,30,100),\n",
    "    np.random.normal(130,30,100),\n",
    "    np.random.normal(150,50,100)\n",
    "]\n",
    "\n",
    "axis.boxplot(data, labels=['a','b','c','d'])"
   ]
  },
  {
   "attachments": {},
   "cell_type": "markdown",
   "metadata": {},
   "source": [
    "Histogram Plot"
   ]
  },
  {
   "cell_type": "code",
   "execution_count": null,
   "metadata": {},
   "outputs": [],
   "source": [
    "fig, axis = plt.subplots(1,1)\n",
    "\n",
    "df1 = pd.DataFrame( {\"Name\": ['Apple', 'Apple', 'Apple', 'Orange', 'Orange', 'Banana', 'Banana', 'Mango', 'Grape'], \n",
    "                    \"Location\": ['India', 'USA', 'UK', 'India', 'USA', 'USA', 'UK', 'India', 'USA'],\n",
    "                    \"Cost\":[80, 120, 140, 70, 110, 50, 60, 90, 120],\n",
    "                    \"Weight\" : [1, 1, 1, 2, 2, 3, 3, 4, 5] }\n",
    ")\n",
    "\n",
    "axis.hist(df1['Cost'], bins=[40,60,80,100,120,140,160], label='Data-1', color='r')\n",
    "axis.legend(loc='best')"
   ]
  },
  {
   "attachments": {},
   "cell_type": "markdown",
   "metadata": {},
   "source": [
    "Violin Plot"
   ]
  },
  {
   "cell_type": "code",
   "execution_count": null,
   "metadata": {},
   "outputs": [],
   "source": [
    "fig, axis = plt.subplots(1,1)\n",
    "\n",
    "data = [\n",
    "    np.random.normal(100, 10 ,100),\n",
    "    np.random.normal(80,30,100),\n",
    "    np.random.normal(130,30,100),\n",
    "    np.random.normal(150,50,100)\n",
    "]\n",
    "\n",
    "axis.violinplot(data, positions=[1,2,3,4])\n",
    "axis.boxplot(data)\n",
    "axis.legend(loc='best')"
   ]
  }
 ],
 "metadata": {
  "kernelspec": {
   "display_name": ".venv",
   "language": "python",
   "name": "python3"
  },
  "language_info": {
   "codemirror_mode": {
    "name": "ipython",
    "version": 3
   },
   "file_extension": ".py",
   "mimetype": "text/x-python",
   "name": "python",
   "nbconvert_exporter": "python",
   "pygments_lexer": "ipython3",
   "version": "3.8.10"
  },
  "orig_nbformat": 4,
  "vscode": {
   "interpreter": {
    "hash": "aa17f8e5e2b4ccee35835ff81fed7ecb411011bd099190c9408a5694b8529a38"
   }
  }
 },
 "nbformat": 4,
 "nbformat_minor": 2
}
